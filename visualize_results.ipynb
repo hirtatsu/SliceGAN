{
 "cells": [
  {
   "attachments": {},
   "cell_type": "markdown",
   "metadata": {},
   "source": [
    "### Minimal visualization script to inspect test results"
   ]
  },
  {
   "cell_type": "code",
   "execution_count": 6,
   "metadata": {},
   "outputs": [],
   "source": [
    "import matplotlib.pyplot as plt\n",
    "import numpy as np\n",
    "from pathlib import Path\n",
    "from PIL import Image"
   ]
  },
  {
   "cell_type": "code",
   "execution_count": 9,
   "metadata": {},
   "outputs": [
    {
     "ename": "UnidentifiedImageError",
     "evalue": "cannot identify image file './test3Dimage/64model.tif'",
     "output_type": "error",
     "traceback": [
      "\u001b[0;31m---------------------------------------------------------------------------\u001b[0m",
      "\u001b[0;31mUnidentifiedImageError\u001b[0m                    Traceback (most recent call last)",
      "Cell \u001b[0;32mIn[9], line 12\u001b[0m\n\u001b[1;32m      7\u001b[0m \u001b[39m# choose the volumes that you wish to see\u001b[39;00m\n\u001b[1;32m      8\u001b[0m \u001b[39m# codes = [15.0, 17.5, 20.0, 22.5, 25.0, 30.0, 35.0, 60.0]\u001b[39;00m\n\u001b[1;32m      9\u001b[0m axes  \u001b[39m=\u001b[39m [\u001b[39m0\u001b[39m, \u001b[39m1\u001b[39m, \u001b[39m2\u001b[39m]\n\u001b[0;32m---> 12\u001b[0m vol \u001b[39m=\u001b[39m np\u001b[39m.\u001b[39marray(Image\u001b[39m.\u001b[39;49mopen(filename))\n",
      "File \u001b[0;32m~/test-env/lib/python3.10/site-packages/PIL/Image.py:3186\u001b[0m, in \u001b[0;36mopen\u001b[0;34m(fp, mode, formats)\u001b[0m\n\u001b[1;32m   3184\u001b[0m \u001b[39mfor\u001b[39;00m message \u001b[39min\u001b[39;00m accept_warnings:\n\u001b[1;32m   3185\u001b[0m     warnings\u001b[39m.\u001b[39mwarn(message)\n\u001b[0;32m-> 3186\u001b[0m \u001b[39mraise\u001b[39;00m UnidentifiedImageError(\n\u001b[1;32m   3187\u001b[0m     \u001b[39m\"\u001b[39m\u001b[39mcannot identify image file \u001b[39m\u001b[39m%r\u001b[39;00m\u001b[39m\"\u001b[39m \u001b[39m%\u001b[39m (filename \u001b[39mif\u001b[39;00m filename \u001b[39melse\u001b[39;00m fp)\n\u001b[1;32m   3188\u001b[0m )\n",
      "\u001b[0;31mUnidentifiedImageError\u001b[0m: cannot identify image file './test3Dimage/64model.tif'"
     ]
    }
   ],
   "source": [
    "# Directory to load data\n",
    "# ckpt_name = 'disentangle'\n",
    "# root = Path('./checkpoints/battery_cathode') / ckpt_name\n",
    "\n",
    "filename = './test3Dimage/64model.tif'\n",
    "\n",
    "# choose the volumes that you wish to see\n",
    "# codes = [15.0, 17.5, 20.0, 22.5, 25.0, 30.0, 35.0, 60.0]\n",
    "axes  = [0, 1, 2]\n",
    "\n",
    "\n",
    "vol = np.array(Image.open(filename))\n"
   ]
  },
  {
   "cell_type": "code",
   "execution_count": null,
   "metadata": {},
   "outputs": [],
   "source": [
    "for ax in axes:\n",
    "    # Slice index of the volume that you want to visualize.\n",
    "    # Currently samples one from the range\n",
    "    idx = np.random.choice(range(50, 75))\n",
    "    if ax == 0:\n",
    "        slice = vol[idx, :, :]\n",
    "    elif ax == 1:\n",
    "        slice = vol[:, idx, :]\n",
    "    elif ax == 2:\n",
    "        slice = vol[:, :, idx]\n",
    "    plt.subplot(1, 3, ax+1)\n",
    "    plt.imshow(slice)\n",
    "    plt.title(f'axis: {ax}')\n",
    "plt.show()"
   ]
  }
 ],
 "metadata": {
  "kernelspec": {
   "display_name": "test-env",
   "language": "python",
   "name": "python3"
  },
  "language_info": {
   "codemirror_mode": {
    "name": "ipython",
    "version": 3
   },
   "file_extension": ".py",
   "mimetype": "text/x-python",
   "name": "python",
   "nbconvert_exporter": "python",
   "pygments_lexer": "ipython3",
   "version": "3.10.6"
  }
 },
 "nbformat": 4,
 "nbformat_minor": 2
}
